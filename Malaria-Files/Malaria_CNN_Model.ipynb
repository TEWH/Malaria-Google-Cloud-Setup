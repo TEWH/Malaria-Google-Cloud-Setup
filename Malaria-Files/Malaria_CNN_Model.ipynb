{
 "cells": [
  {
   "cell_type": "code",
   "execution_count": null,
   "metadata": {
    "colab": {
     "base_uri": "https://localhost:8080/",
     "height": 137,
     "resources": {
      "http://localhost:8080/nbextensions/google.colab/files.js": {
       "data": "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",
       "headers": [
        [
         "content-type",
         "application/javascript"
        ]
       ],
       "ok": true,
       "status": 200,
       "status_text": ""
      }
     }
    },
    "colab_type": "code",
    "executionInfo": {
     "elapsed": 3250185,
     "status": "ok",
     "timestamp": 1572908612407,
     "user": {
      "displayName": "Sihua Zhao",
      "photoUrl": "",
      "userId": "04554690952919495448"
     },
     "user_tz": 360
    },
    "id": "tHgD_Crwdgjd",
    "outputId": "e0179fa8-25f1-4321-8c75-dcb6dc35be45"
   },
   "outputs": [],
   "source": [
    "# IMPORT RELEVANT PACKAGES AND LIBRARIES\n",
    "import keras\n",
    "import tensorflow as tf\n",
    "from keras import applications\n",
    "from keras.preprocessing.image import ImageDataGenerator\n",
    "from keras import optimizers\n",
    "from keras.models import Sequential\n",
    "from keras.layers import Dropout, Flatten, Dense"
   ]
  },
  {
   "cell_type": "code",
   "execution_count": null,
   "metadata": {},
   "outputs": [],
   "source": [
    "# Download zip file with images if not already exists\n",
    "!wget -nc ftp://lhcftp.nlm.nih.gov/Open-Access-Datasets/Malaria/cell_images.zip"
   ]
  },
  {
   "cell_type": "code",
   "execution_count": null,
   "metadata": {},
   "outputs": [],
   "source": [
    "# Randomly generate test/train set\n",
    "import os\n",
    "import random\n",
    "from shutil import copyfile\n",
    "from zipfile import ZipFile\n",
    "\n",
    "# Set \"True\" to re-randomize image set on every run\n",
    "REGENERATE_IMAGES_EVERY_RUN = False\n",
    "\n",
    "if REGENERATE_IMAGES_EVERY_RUN:\n",
    "    !rm -r Malaria_Dataset/\n",
    "\n",
    "ROOT_DIR = os.getcwd()\n",
    "CELL_IMAGES_DIR = os.path.join(ROOT_DIR, \"cell_images\")\n",
    "PARASITIZED_DIR = os.path.join(CELL_IMAGES_DIR, \"Parasitized\")\n",
    "UNINFECTED_DIR = os.path.join(CELL_IMAGES_DIR, \"Uninfected\")\n",
    "MALARIA_DATASET_DIR = os.path.join(ROOT_DIR, \"Malaria_Dataset\")\n",
    "TRAINING_SET_DIR = os.path.join(MALARIA_DATASET_DIR, \"Training_Set\")\n",
    "TRAIN_PARASITIZED_DIR = os.path.join(TRAINING_SET_DIR, \"Parasitized\")\n",
    "TRAIN_UNINFECTED_DIR = os.path.join(TRAINING_SET_DIR, \"Uninfected\")\n",
    "TESTING_SET_DIR = os.path.join(MALARIA_DATASET_DIR, \"Testing_Set\")\n",
    "TEST_PARASITIZED_DIR = os.path.join(TESTING_SET_DIR, \"Parasitized\")\n",
    "TEST_UNINFECTED_DIR = os.path.join(TESTING_SET_DIR, \"Uninfected\")\n",
    "\n",
    "# Ignore script if test/train set already exists\n",
    "if os.path.isdir(MALARIA_DATASET_DIR):\n",
    "    raise SystemExit(\"test/train set already exists!\")\n",
    "\n",
    "# Extract images if not already extracted\n",
    "if not os.path.isdir(\"cell_images\"):\n",
    "    print(\"Extracting images...\")\n",
    "\n",
    "    with ZipFile(os.path.join(ROOT_DIR, \"cell_images.zip\"), \"r\") as zipObj:\n",
    "        zipObj.extractall()\n",
    "\n",
    "cell_images = os.listdir(CELL_IMAGES_DIR)\n",
    "parasitized_images = os.listdir(PARASITIZED_DIR)\n",
    "uninfected_images = os.listdir(UNINFECTED_DIR)\n",
    "train_test_ratio = 0.8\n",
    "target_parasitized_train_size = int(len(parasitized_images) * train_test_ratio)\n",
    "target_parasitized_test_size = len(parasitized_images) - target_parasitized_train_size\n",
    "target_uninfected_train_size = int(len(uninfected_images) * train_test_ratio)\n",
    "target_uninfected_test_size = len(uninfected_images) - target_uninfected_train_size\n",
    "target_train_size = target_parasitized_train_size + target_uninfected_train_size\n",
    "target_test_size = target_parasitized_test_size + target_uninfected_test_size\n",
    "\n",
    "# Randomly move 20% of parisitized images to testing set\n",
    "print(\"Copying parisitized images to testing set...\")\n",
    "os.makedirs(TEST_PARASITIZED_DIR, exist_ok=True)\n",
    "\n",
    "while len(parasitized_images) > target_parasitized_test_size:\n",
    "    cell_image = random.choice(parasitized_images)\n",
    "    cell_image_dir = os.path.join(PARASITIZED_DIR, cell_image)\n",
    "    renamed_dir = os.path.join(TEST_PARASITIZED_DIR, cell_image)\n",
    "\n",
    "    copyfile(cell_image_dir, renamed_dir)\n",
    "    parasitized_images.remove(cell_image)\n",
    "\n",
    "# Move the remaining parisitized images to training set\n",
    "print(\"Copying parisitized images to training set...\")\n",
    "os.makedirs(TRAIN_PARASITIZED_DIR, exist_ok=True)\n",
    "\n",
    "while len(parasitized_images) > 0:\n",
    "    cell_image = random.choice(parasitized_images)\n",
    "    cell_image_dir = os.path.join(PARASITIZED_DIR, cell_image)\n",
    "    renamed_dir = os.path.join(TRAINING_SET_DIR, \"Parasitized\", cell_image)\n",
    "\n",
    "    copyfile(cell_image_dir, renamed_dir)\n",
    "    parasitized_images.remove(cell_image)\n",
    "\n",
    "# Randomly move 20% of uninfected images to testing set\n",
    "print(\"Copying uninfected images to testing set...\")\n",
    "os.makedirs(TEST_UNINFECTED_DIR, exist_ok=True)\n",
    "\n",
    "while len(uninfected_images) > target_uninfected_test_size:\n",
    "    cell_image = random.choice(uninfected_images)\n",
    "    cell_image_dir = os.path.join(UNINFECTED_DIR, cell_image)\n",
    "    renamed_dir = os.path.join(TESTING_SET_DIR, \"Uninfected\", cell_image)\n",
    "\n",
    "    copyfile(cell_image_dir, renamed_dir)\n",
    "    uninfected_images.remove(cell_image)\n",
    "\n",
    "# Move the remaining uninfected images to training set\n",
    "print(\"Copying uninfected images to training set...\")\n",
    "os.makedirs(TRAIN_UNINFECTED_DIR, exist_ok=True)\n",
    "\n",
    "while len(uninfected_images) > 0:\n",
    "    cell_image = random.choice(uninfected_images)\n",
    "    cell_image_dir = os.path.join(UNINFECTED_DIR, cell_image)\n",
    "    renamed_dir = os.path.join(TRAINING_SET_DIR, \"Uninfected\", cell_image)\n",
    "\n",
    "    copyfile(cell_image_dir, renamed_dir)\n",
    "    uninfected_images.remove(cell_image)\n",
    "\n",
    "print(\"Done!\")"
   ]
  },
  {
   "cell_type": "code",
   "execution_count": null,
   "metadata": {
    "colab": {},
    "colab_type": "code",
    "id": "9nuEnUUWd6Ge"
   },
   "outputs": [],
   "source": [
    "# INITIALIZE VARAIBLES\n",
    "img_width, img_height = 128, 128                         # images should be rescaled to 128x128 pixels\n",
    "train_data_dir = 'Malaria_Dataset/Training_Set'          # directory of training set folder\n",
    "validation_data_dir = 'Malaria_Dataset/Testing_Set'      # directory of test set folder\n",
    "nb_train_samples = target_train_size                     # number of images in training set\n",
    "nb_validation_samples = target_test_size                 # number of images in testing set\n",
    "epochs = 20                                              # number of epochs to go through\n",
    "batch_size = 4                                           # number of batches (weights updated after each batch)"
   ]
  },
  {
   "cell_type": "code",
   "execution_count": null,
   "metadata": {
    "colab": {
     "base_uri": "https://localhost:8080/",
     "height": 595
    },
    "colab_type": "code",
    "executionInfo": {
     "elapsed": 923,
     "status": "ok",
     "timestamp": 1572910362660,
     "user": {
      "displayName": "Sihua Zhao",
      "photoUrl": "",
      "userId": "04554690952919495448"
     },
     "user_tz": 360
    },
    "id": "R1WTq80HeDWA",
    "outputId": "5c9912fe-332d-4ee5-db08-4068fba11b68"
   },
   "outputs": [],
   "source": [
    "# BUILDING CONVOLUTIONAL NEURAL NETWORK FROM SCRATCH\n",
    "\n",
    "# Input layer is a 125x125 pixel image in RGB (x3)\n",
    "inp = tf.keras.layers.Input(shape=(128,128,3))\n",
    "\n",
    "# 1st convolutional layer has 32 filters with 3x3 kernels, ReLU activation function, and padding\n",
    "conv1 = tf.keras.layers.Conv2D(32, kernel_size=(3, 3), \n",
    "                               activation='relu', padding='same')(inp)\n",
    "\n",
    "# 1st pooling layer with 2x2 downscaling\n",
    "pool1 = tf.keras.layers.MaxPooling2D(pool_size=(2, 2))(conv1)\n",
    "\n",
    "# 2nd convolutional layer has 64 filters with 3x3 kernels, ReLU activation function, and padding\n",
    "conv2 = tf.keras.layers.Conv2D(64, kernel_size=(3, 3), \n",
    "                               activation='relu', padding='same')(pool1)\n",
    "\n",
    "# 2nd pooling layer with 2x2 downscaling\n",
    "pool2 = tf.keras.layers.MaxPooling2D(pool_size=(2, 2))(conv2)\n",
    "\n",
    "# 3rd convolutional layer has 128 filters with 3x3 kernels, ReLU activation function, and padding\n",
    "conv3 = tf.keras.layers.Conv2D(128, kernel_size=(3, 3), \n",
    "                               activation='relu', padding='same')(pool2)\n",
    "\n",
    "# 3rd pooling layer with 2x2 downscaling\n",
    "pool3 = tf.keras.layers.MaxPooling2D(pool_size=(2, 2))(conv3)\n",
    "\n",
    "# flattening layer to convert convolutional neural output into inputs for MLP\n",
    "flat = tf.keras.layers.Flatten()(pool3)\n",
    "\n",
    "# 1st multilayer perceptron hidden layer with 256 nodes and ReLU activation functions\n",
    "hidden1 = tf.keras.layers.Dense(256, activation='relu')(flat)\n",
    "\n",
    "# 1st dropout layer to drop 30% of input units to reduce overfitting\n",
    "drop1 = tf.keras.layers.Dropout(rate=0.3)(hidden1)\n",
    "\n",
    "# 2nd multilayer perceptron hidden layer with 256 nodes and ReLU activation functions\n",
    "hidden2 = tf.keras.layers.Dense(256, activation='relu')(drop1)\n",
    "\n",
    "# 2nd dropout layer to drop 30% of input units to reduce overfitting\n",
    "drop2 = tf.keras.layers.Dropout(rate=0.3)(hidden2)\n",
    "\n",
    "# Output layer with two nodes giving probabilities of each class\n",
    "out = tf.keras.layers.Dense(2, activation='softmax')(drop2)\n",
    "\n",
    "# Creates a model that includes all layers in the computation of \"out\" given \"inp\"\n",
    "model = tf.keras.Model(inputs=inp, outputs=out)\n",
    "\n",
    "# Configures the model for training\n",
    "sgd = tf.keras.optimizers.SGD(lr= .0001)\n",
    "adam = tf.keras.optimizers.Adam(learning_rate=0.001, beta_1=0.9, beta_2=0.999, amsgrad=False)\n",
    "model.compile(optimizer=adam,\n",
    "                loss='binary_crossentropy',\n",
    "                metrics=['accuracy'])\n",
    "\n",
    "# Summarize convolutional neural network architecture\n",
    "model.summary()"
   ]
  },
  {
   "cell_type": "code",
   "execution_count": null,
   "metadata": {
    "colab": {
     "base_uri": "https://localhost:8080/",
     "height": 140
    },
    "colab_type": "code",
    "executionInfo": {
     "elapsed": 862420,
     "status": "ok",
     "timestamp": 1572563383468,
     "user": {
      "displayName": "Sihua Zhao",
      "photoUrl": "",
      "userId": "04554690952919495448"
     },
     "user_tz": 300
    },
    "id": "MWNqyYm8eHwl",
    "outputId": "5a41ad05-35b8-4f0d-909f-bfef2cce9403"
   },
   "outputs": [],
   "source": [
    "# GENERATE IMAGES AND TRAIN MODEL\n",
    "#   Here, we generate variants of our original dataset. Examples of variants \n",
    "#   include images that are flipped, rotated, rescaled in size, and sheared.\n",
    "#   The purpose of this is to prevent overfitting of the model. It can also \n",
    "#   better help generalize the identification of different objects. For example,\n",
    "#   this way, the model can identify a red blood cell that is oriented differently.\n",
    "\n",
    "# build training image generator\n",
    "train_datagen = ImageDataGenerator(\n",
    "    rescale=1. / 255,\n",
    "    rotation_range = 20,\n",
    "    width_shift_range=0.1,\n",
    "    height_shift_range=0.1,\n",
    "    shear_range=0.2,\n",
    "    zoom_range=0.2,\n",
    "    horizontal_flip=True,\n",
    "    vertical_flip=True)\n",
    "\n",
    "# build testing image generator\n",
    "test_datagen = ImageDataGenerator(rescale=1. / 255)\n",
    "\n",
    "# generate training images\n",
    "train_generator = train_datagen.flow_from_directory(\n",
    "    train_data_dir,\n",
    "    target_size=(img_height, img_width),\n",
    "    batch_size=batch_size,\n",
    "    class_mode='categorical')\n",
    "\n",
    "# generate testing images\n",
    "validation_generator = test_datagen.flow_from_directory(\n",
    "    validation_data_dir,\n",
    "    target_size=(img_height, img_width),\n",
    "    batch_size=batch_size,\n",
    "    class_mode='categorical')\n",
    "\n",
    "# fit the model on the generated images\n",
    "history = model.fit_generator(\n",
    "    train_generator,\n",
    "    steps_per_epoch=nb_train_samples,\n",
    "    epochs=epochs,\n",
    "    validation_data=validation_generator,\n",
    "    validation_steps=nb_validation_samples)\n",
    "    #class_weight = class_weight)"
   ]
  },
  {
   "cell_type": "code",
   "execution_count": null,
   "metadata": {
    "colab": {
     "base_uri": "https://localhost:8080/",
     "height": 590
    },
    "colab_type": "code",
    "executionInfo": {
     "elapsed": 1325,
     "status": "ok",
     "timestamp": 1572560945452,
     "user": {
      "displayName": "Sihua Zhao",
      "photoUrl": "",
      "userId": "04554690952919495448"
     },
     "user_tz": 300
    },
    "id": "pTNMBYHgrfQ_",
    "outputId": "7ceb1a83-6996-4937-84a0-a954200ecc47"
   },
   "outputs": [],
   "source": [
    "import matplotlib.pyplot as plt\n",
    "# list all data in history\n",
    "print(history.history.keys())\n",
    "# summarize history for accuracy\n",
    "plt.plot(history.history['acc'])\n",
    "plt.plot(history.history['val_acc'])\n",
    "plt.title('model accuracy')\n",
    "plt.ylabel('accuracy')\n",
    "plt.xlabel('epoch')\n",
    "plt.legend(['train', 'test'], loc='upper left')\n",
    "plt.show()\n",
    "# summarize history for loss\n",
    "plt.plot(history.history['loss'])\n",
    "plt.plot(history.history['val_loss'])\n",
    "plt.title('model loss')\n",
    "plt.ylabel('loss')\n",
    "plt.xlabel('epoch')\n",
    "plt.legend(['train', 'test'], loc='upper left')\n",
    "plt.show()"
   ]
  }
 ],
 "metadata": {
  "accelerator": "GPU",
  "colab": {
   "collapsed_sections": [],
   "name": "Malaria_CNN_Model.ipynb",
   "provenance": [
    {
     "file_id": "1RD2nBxThN1Fuv2ZoKUDuOXV34swEI3Jx",
     "timestamp": 1572904216819
    }
   ]
  },
  "kernelspec": {
   "display_name": "Python 3",
   "language": "python",
   "name": "python3"
  },
  "language_info": {
   "codemirror_mode": {
    "name": "ipython",
    "version": 3
   },
   "file_extension": ".py",
   "mimetype": "text/x-python",
   "name": "python",
   "nbconvert_exporter": "python",
   "pygments_lexer": "ipython3",
   "version": "3.6.8"
  }
 },
 "nbformat": 4,
 "nbformat_minor": 1
}
