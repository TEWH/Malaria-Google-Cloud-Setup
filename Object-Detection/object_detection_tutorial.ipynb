{
  "nbformat": 4,
  "nbformat_minor": 0,
  "metadata": {
    "accelerator": "GPU",
    "colab": {
      "name": "object_detection_tutorial.ipynb",
      "provenance": [],
      "collapsed_sections": [],
      "toc_visible": true
    },
    "kernelspec": {
      "name": "python3",
      "display_name": "Python 3"
    }
  },
  "cells": [
    {
      "cell_type": "markdown",
      "metadata": {
        "colab_type": "text",
        "id": "kFSqkTCdWKMI"
      },
      "source": [
        "# Setup"
      ]
    },
    {
      "cell_type": "markdown",
      "metadata": {
        "colab_type": "text",
        "id": "awjrpqy-6MaQ"
      },
      "source": [
        "Important: If you're running on a local machine, be sure to follow the [installation instructions](https://github.com/tensorflow/models/blob/master/research/object_detection/g3doc/installation.md). This notebook includes only what's necessary to run in Colab."
      ]
    },
    {
      "cell_type": "markdown",
      "metadata": {
        "colab_type": "text",
        "id": "p3UGXxUii5Ym"
      },
      "source": [
        "### Install"
      ]
    },
    {
      "cell_type": "code",
      "metadata": {
        "colab_type": "code",
        "id": "hGL97-GXjSUw",
        "colab": {}
      },
      "source": [
        "# !pip install tensorflow-gpu==1.15\n",
        "# !pip install -U --pre tensorflow==\"2.*\"\n",
        "\n",
        "# Fix for \"InvalidArgumentError: TypeError: 'numpy.float64' object cannot be interpreted as an integer\"\n",
        "# Reference: https://stackoverflow.com/questions/59493606/pytorch-and-tensorflow-object-detection-evaluate-object-of-type-class-nump\n",
        "!pip install numpy==1.17.4"
      ],
      "execution_count": 0,
      "outputs": []
    },
    {
      "cell_type": "markdown",
      "metadata": {
        "colab_type": "text",
        "id": "n_ap_s9ajTHH"
      },
      "source": [
        "Make sure you have `pycocotools` installed"
      ]
    },
    {
      "cell_type": "code",
      "metadata": {
        "colab_type": "code",
        "id": "Bg8ZyA47i3pY",
        "colab": {}
      },
      "source": [
        "!pip install pycocotools"
      ],
      "execution_count": 0,
      "outputs": []
    },
    {
      "cell_type": "markdown",
      "metadata": {
        "colab_type": "text",
        "id": "-vsOL3QR6kqs"
      },
      "source": [
        "Get `tensorflow/models` or `cd` to parent directory of the repository."
      ]
    },
    {
      "cell_type": "code",
      "metadata": {
        "colab_type": "code",
        "id": "ykA0c-om51s1",
        "colab": {}
      },
      "source": [
        "import os\n",
        "import pathlib\n",
        "\n",
        "\n",
        "CWD = pathlib.Path.cwd()\n",
        "\n",
        "if \"models\" in pathlib.Path.cwd().parts:\n",
        "  while \"models\" in pathlib.Path.cwd().parts:\n",
        "    os.chdir('..')\n",
        "elif not pathlib.Path('models').exists():\n",
        "  !git clone --depth 1 https://github.com/tensorflow/models\n",
        "\n",
        "print()\n",
        "print(f'Current Working Directory: \"{CWD}\"')"
      ],
      "execution_count": 0,
      "outputs": []
    },
    {
      "cell_type": "markdown",
      "metadata": {
        "id": "fGrHnE6m4VX8",
        "colab_type": "text"
      },
      "source": [
        "Fixes for Training section"
      ]
    },
    {
      "cell_type": "code",
      "metadata": {
        "id": "mQ5rngdgwcsM",
        "colab_type": "code",
        "colab": {}
      },
      "source": [
        "# Fix for \"ImportError: No module named nets\"\n",
        "# Reference: https://github.com/tensorflow/models/issues/1842\n",
        "!cp -r {CWD}/models/research/slim/nets {CWD}/models/research/object_detection"
      ],
      "execution_count": 0,
      "outputs": []
    },
    {
      "cell_type": "code",
      "metadata": {
        "id": "ISDKCxx3vhRv",
        "colab_type": "code",
        "colab": {}
      },
      "source": [
        "# Fix for \"ValueError: anchor_strides must be a list with the same length as self._box_specs\" during training\n",
        "# Reference: https://stackoverflow.com/questions/53563976/tensorflow-object-detection-api-valueerror-anchor-strides-must-be-a-list-wit\n",
        "# Modify \"/.../models/research/object_detection/anchor_generators/multiple_grid_anchor_generator.py\"\n",
        "!cp {CWD}/multiple_grid_anchor_generator_fix.py {CWD}/models/research/object_detection/anchor_generators/multiple_grid_anchor_generator.py"
      ],
      "execution_count": 0,
      "outputs": []
    },
    {
      "cell_type": "markdown",
      "metadata": {
        "colab_type": "text",
        "id": "O219m6yWAj9l"
      },
      "source": [
        "Compile protobufs and install the object_detection package"
      ]
    },
    {
      "cell_type": "code",
      "metadata": {
        "colab_type": "code",
        "id": "PY41vdYYNlXc",
        "colab": {}
      },
      "source": [
        "%%bash\n",
        "cd models/research/\n",
        "protoc object_detection/protos/*.proto --python_out=."
      ],
      "execution_count": 0,
      "outputs": []
    },
    {
      "cell_type": "code",
      "metadata": {
        "colab_type": "code",
        "id": "s62yJyQUcYbp",
        "colab": {}
      },
      "source": [
        "%%bash\n",
        "cd models/research\n",
        "pip install ."
      ],
      "execution_count": 0,
      "outputs": []
    },
    {
      "cell_type": "markdown",
      "metadata": {
        "colab_type": "text",
        "id": "LBdjK2G5ywuc"
      },
      "source": [
        "### Imports"
      ]
    },
    {
      "cell_type": "code",
      "metadata": {
        "colab_type": "code",
        "id": "hV4P5gyTWKMI",
        "colab": {}
      },
      "source": [
        "import numpy as np\n",
        "import os\n",
        "import six.moves.urllib as urllib\n",
        "import sys\n",
        "import tarfile\n",
        "import tensorflow as tf\n",
        "import zipfile\n",
        "\n",
        "from collections import defaultdict\n",
        "from io import StringIO\n",
        "from matplotlib import pyplot as plt\n",
        "from PIL import Image\n",
        "from IPython.display import display"
      ],
      "execution_count": 0,
      "outputs": []
    },
    {
      "cell_type": "markdown",
      "metadata": {
        "colab_type": "text",
        "id": "r5FNuiRPWKMN"
      },
      "source": [
        "Import the object detection module."
      ]
    },
    {
      "cell_type": "code",
      "metadata": {
        "colab_type": "code",
        "id": "4-IMl4b6BdGO",
        "colab": {}
      },
      "source": [
        "from object_detection.utils import ops as utils_ops\n",
        "from object_detection.utils import label_map_util\n",
        "from object_detection.utils import visualization_utils as vis_util"
      ],
      "execution_count": 0,
      "outputs": []
    },
    {
      "cell_type": "markdown",
      "metadata": {
        "colab_type": "text",
        "id": "RYPCiag2iz_q"
      },
      "source": [
        "Patches:"
      ]
    },
    {
      "cell_type": "code",
      "metadata": {
        "colab_type": "code",
        "id": "mF-YlMl8c_bM",
        "colab": {}
      },
      "source": [
        "# patch tf1 into `utils.ops`\n",
        "utils_ops.tf = tf.compat.v1\n",
        "\n",
        "# Patch the location of gfile\n",
        "tf.gfile = tf.io.gfile"
      ],
      "execution_count": 0,
      "outputs": []
    },
    {
      "cell_type": "markdown",
      "metadata": {
        "colab_type": "text",
        "id": "cfn_tRFOWKMO"
      },
      "source": [
        "# Model preparation "
      ]
    },
    {
      "cell_type": "markdown",
      "metadata": {
        "colab_type": "text",
        "id": "X_sEBLpVWKMQ"
      },
      "source": [
        "## Variables\n",
        "\n",
        "Any model exported using the `export_inference_graph.py` tool can be loaded here simply by changing the path.\n",
        "\n",
        "By default we use an \"SSD with Mobilenet\" model here. See the [detection model zoo](https://github.com/tensorflow/models/blob/master/research/object_detection/g3doc/detection_model_zoo.md) for a list of other models that can be run out-of-the-box with varying speeds and accuracies."
      ]
    },
    {
      "cell_type": "markdown",
      "metadata": {
        "colab_type": "text",
        "id": "7ai8pLZZWKMS"
      },
      "source": [
        "## Loader"
      ]
    },
    {
      "cell_type": "code",
      "metadata": {
        "colab_type": "code",
        "id": "zm8xp-0eoItE",
        "colab": {}
      },
      "source": [
        "def load_model(model_name):\n",
        "  base_url = 'http://download.tensorflow.org/models/object_detection/'\n",
        "  model_file = model_name + '.tar.gz'\n",
        "  MODEL_DIR = tf.keras.utils.get_file(\n",
        "    fname=model_name, \n",
        "    origin=base_url + model_file,\n",
        "    untar=True)\n",
        "\n",
        "  # Print model checkpoint directory\n",
        "  print(MODEL_DIR)\n",
        "  !ls {MODEL_DIR}\n",
        "\n",
        "  MODEL_DIR = pathlib.Path(MODEL_DIR)/\"saved_model\"\n",
        "\n",
        "  # Fix for \"TypeError: load() missing 2 required positional arguments: 'tags' and 'export_dir'\"\n",
        "  # Reference: https://stackoverflow.com/questions/58683841/problem-with-running-object-detection-tutorial-typeerror-load-missing-2-requi\n",
        "  # model = tf.saved_model.load(str(MODEL_DIR))\n",
        "  model = tf.compat.v2.saved_model.load(str(MODEL_DIR), None)\n",
        "  model = model.signatures['serving_default']\n",
        "\n",
        "  return model\n",
        "\n",
        "\n",
        "def load_custom_model(saved_model_dir):\n",
        "  # Fix for \"TypeError: load() missing 2 required positional arguments: 'tags' and 'export_dir'\"\n",
        "  # Reference: https://stackoverflow.com/questions/58683841/problem-with-running-object-detection-tutorial-typeerror-load-missing-2-requi\n",
        "  # model = tf.saved_model.load(str(MODEL_DIR))\n",
        "  model = tf.compat.v2.saved_model.load(str(saved_model_dir), None)\n",
        "  model = model.signatures['serving_default']\n",
        "\n",
        "  return model"
      ],
      "execution_count": 0,
      "outputs": []
    },
    {
      "cell_type": "markdown",
      "metadata": {
        "colab_type": "text",
        "id": "_1MVVTcLWKMW"
      },
      "source": [
        "## Loading label map\n",
        "Label maps map indices to category names, so that when our convolution network predicts `5`, we know that this corresponds to `airplane`.  Here we use internal utility functions, but anything that returns a dictionary mapping integers to appropriate string labels would be fine"
      ]
    },
    {
      "cell_type": "code",
      "metadata": {
        "id": "83Bm50fbMycF",
        "colab_type": "code",
        "colab": {}
      },
      "source": [
        "# Download dataset\n",
        "!wget -nc https://data.broadinstitute.org/bbbc/BBBC041/malaria.zip\n",
        "!unzip -u '{CWD}/malaria.zip' -x '__MACOSX/*'"
      ],
      "execution_count": 0,
      "outputs": []
    },
    {
      "cell_type": "code",
      "metadata": {
        "id": "TD-5JLLlMMeE",
        "colab_type": "code",
        "colab": {}
      },
      "source": [
        "# Parse records\n",
        "import json\n",
        "import tensorflow as tf\n",
        "\n",
        "from object_detection.utils import dataset_util\n",
        "\n",
        "\n",
        "def get_simplified_image_format(filename: str) -> str:\n",
        "    extension = filename[-3:]\n",
        "    \n",
        "    if extension == 'jpg':\n",
        "        return 'jpeg'\n",
        "    else:\n",
        "        return extension\n",
        "\n",
        "\n",
        "def get_simplified_class(class_name: str) -> str:\n",
        "  rbc_list = ['red blood cell', 'difficult']\n",
        "  infected_list = ['trophozoite', 'schizont', 'ring', 'gametocyte']\n",
        "\n",
        "  if class_name in rbc_list:\n",
        "    return 'red blood cell'\n",
        "  elif class_name in infected_list:\n",
        "    return 'infected'\n",
        "  else:\n",
        "    # Other (i.e. leukocyte)\n",
        "    return class_name\n",
        "\n",
        "\n",
        "def create_tf_example(example):\n",
        "  # TODO(user): Populate the following variables from your example.\n",
        "  height = example['height'] # Image height\n",
        "  width = example['width'] # Image width\n",
        "  filename = example['filename'] # Filename of the image. Empty if image is not from file\n",
        "  encoded_image_data = example['encoded_image_data'] # Encoded image bytes\n",
        "  image_format = example['image_format'] # b'jpeg' or b'png'\n",
        "\n",
        "  xmins = example['xmins'] # List of normalized left x coordinates in bounding box (1 per box)\n",
        "  xmaxs = example['xmaxs'] # List of normalized right x coordinates in bounding box (1 per box)\n",
        "  ymins = example['ymins'] # List of normalized top y coordinates in bounding box (1 per box)\n",
        "  ymaxs = example['ymaxs'] # List of normalized bottom y coordinates in bounding box (1 per box)\n",
        "  classes_text = example['classes_text'] # List of string class name of bounding box (1 per box)\n",
        "  classes = example['classes'] # List of integer class id of bounding box (1 per box)\n",
        "\n",
        "  tf_example = tf.train.Example(features=tf.train.Features(feature={\n",
        "      'image/height': dataset_util.int64_feature(height),\n",
        "      'image/width': dataset_util.int64_feature(width),\n",
        "      'image/filename': dataset_util.bytes_feature(filename),\n",
        "      'image/source_id': dataset_util.bytes_feature(filename),\n",
        "      'image/encoded': dataset_util.bytes_feature(encoded_image_data),\n",
        "      'image/format': dataset_util.bytes_feature(image_format),\n",
        "      'image/object/bbox/xmin': dataset_util.float_list_feature(xmins),\n",
        "      'image/object/bbox/xmax': dataset_util.float_list_feature(xmaxs),\n",
        "      'image/object/bbox/ymin': dataset_util.float_list_feature(ymins),\n",
        "      'image/object/bbox/ymax': dataset_util.float_list_feature(ymaxs),\n",
        "      'image/object/class/text': dataset_util.bytes_list_feature(classes_text),\n",
        "      'image/object/class/label': dataset_util.int64_list_feature(classes),\n",
        "  }))\n",
        "  return tf_example\n",
        "\n",
        "# TODO(user): Write code to read in your dataset to examples variable\n",
        "TRAINING_JSON_PATH = f'{CWD}/malaria/training.json'\n",
        "TEST_JSON_PATH = f'{CWD}/malaria/test.json'\n",
        "dataset_paths = [TRAINING_JSON_PATH, TEST_JSON_PATH]\n",
        "OUTPUT_PATHS = [f'{CWD}/malaria/training.tfrecord', f'{CWD}/malaria/test.tfrecord']\n",
        "LABEL_MAP_PATH = f'{CWD}/malaria/classes.pbtxt'\n",
        "label_map = {}\n",
        "\n",
        "for i in range(len(dataset_paths)):\n",
        "  output_path = OUTPUT_PATHS[i]\n",
        "  # writer = tf.python_io.TFRecordWriter(output_path)\n",
        "  writer = tf.io.TFRecordWriter(output_path)\n",
        "  \n",
        "  with open(dataset_paths[i]) as f:\n",
        "      data = json.load(f)\n",
        "\n",
        "  next_index = 1\n",
        "\n",
        "  for entry in data:\n",
        "      for obj in entry['objects']:\n",
        "          if get_simplified_class(obj['category']) not in label_map:\n",
        "              label_map[get_simplified_class(obj['category'])] = next_index\n",
        "              next_index += 1\n",
        "      \n",
        "      with tf.gfile.GFile(f\"{CWD}/malaria{entry['image']['pathname']}\", 'rb') as fid:\n",
        "        encoded_image_data = fid.read()\n",
        "\n",
        "      dataset_format = {\n",
        "          'height': entry['image']['shape']['r'],\n",
        "          'width': entry['image']['shape']['c'],\n",
        "          'filename': entry['image']['pathname'].encode(),\n",
        "          'encoded_image_data': encoded_image_data,\n",
        "          'image_format': get_simplified_image_format(entry['image']['pathname']).encode(),\n",
        "          'xmins': [obj['bounding_box']['minimum']['c'] / entry['image']['shape']['c'] for obj in entry['objects']],\n",
        "          'xmaxs': [obj['bounding_box']['maximum']['c'] / entry['image']['shape']['c'] for obj in entry['objects']],\n",
        "          'ymins': [obj['bounding_box']['minimum']['r'] / entry['image']['shape']['r'] for obj in entry['objects']],\n",
        "          'ymaxs': [obj['bounding_box']['maximum']['r'] / entry['image']['shape']['r'] for obj in entry['objects']],\n",
        "          'classes_text': [get_simplified_class(obj['category']).encode() for obj in entry['objects']],\n",
        "          'classes': [label_map[get_simplified_class(obj['category'])] for obj in entry['objects']]\n",
        "      }\n",
        "      \n",
        "      tf_example = create_tf_example(dataset_format)\n",
        "      writer.write(tf_example.SerializeToString())\n",
        "\n",
        "  writer.close()\n",
        "\n",
        "# Create label map\n",
        "with open(LABEL_MAP_PATH, 'w') as f:\n",
        "  first_label = True\n",
        "\n",
        "  for label in label_map:\n",
        "    f.write('item {\\n') if first_label else f.write('\\nitem {\\n')\n",
        "    f.write(f'  id: {label_map[label]}\\n')\n",
        "    f.write(f'  name: \"{label}\"\\n')\n",
        "    f.write('}\\n')\n",
        "\n",
        "    first_label = False\n",
        "\n",
        "print('Verify \"ssd.config\" matches the following:')\n",
        "print(f'train_/eval_input_reader => label_map_path: \"{LABEL_MAP_PATH}\"')\n",
        "print(f'train_input_reader => input_path: \"{OUTPUT_PATHS[0]}\"')\n",
        "print(f'eval_input_reader => input_path: \"{OUTPUT_PATHS[1]}\"')"
      ],
      "execution_count": 0,
      "outputs": []
    },
    {
      "cell_type": "code",
      "metadata": {
        "colab_type": "code",
        "id": "hDbpHkiWWKMX",
        "colab": {}
      },
      "source": [
        "# List of the strings that is used to add correct label for each box.\n",
        "category_index = label_map_util.create_category_index_from_labelmap(LABEL_MAP_PATH, use_display_name=True)\n",
        "\n",
        "category_index"
      ],
      "execution_count": 0,
      "outputs": []
    },
    {
      "cell_type": "code",
      "metadata": {
        "colab_type": "code",
        "id": "jG-zn5ykWKMd",
        "colab": {}
      },
      "source": [
        "# If you want to test the code with your images, just add path to the images to the TEST_IMAGE_PATHS.\n",
        "PATH_TO_TEST_IMAGES_DIR = pathlib.Path(f'{CWD}/malaria/images')\n",
        "TEST_IMAGE_PATHS = []\n",
        "EXTENSIONS = ['*.jpg', '*.png']\n",
        "\n",
        "for ext in EXTENSIONS:\n",
        "  TEST_IMAGE_PATHS.extend(list(PATH_TO_TEST_IMAGES_DIR.glob(ext)))\n",
        "\n",
        "TEST_IMAGE_PATHS.sort()"
      ],
      "execution_count": 0,
      "outputs": []
    },
    {
      "cell_type": "markdown",
      "metadata": {
        "id": "z6it2qpIyhpI",
        "colab_type": "text"
      },
      "source": [
        "# Training"
      ]
    },
    {
      "cell_type": "code",
      "metadata": {
        "id": "EBKnnwsfd8Wn",
        "colab_type": "code",
        "colab": {}
      },
      "source": [
        "model_name = 'ssd_mobilenet_v2_coco_2018_03_29'\n",
        "detection_model = load_model(model_name)\n",
        "\n",
        "# ssd.config file => fine_tune_checkpoint: \"/root/.keras/datasets/ssd_mobilenet_v2_coco_2018_03_29/model.ckpt\""
      ],
      "execution_count": 0,
      "outputs": []
    },
    {
      "cell_type": "code",
      "metadata": {
        "id": "rJLI5pmK4RQ3",
        "colab_type": "code",
        "colab": {}
      },
      "source": [
        "pipeline_fname = f'{CWD}/ssd.config'\n",
        "model_dir = f'{CWD}/training'\n",
        "num_steps = 10000\n",
        "num_eval_steps = 10000"
      ],
      "execution_count": 0,
      "outputs": []
    },
    {
      "cell_type": "code",
      "metadata": {
        "id": "2r73fq9Pyjqi",
        "colab_type": "code",
        "colab": {}
      },
      "source": [
        "!python {CWD}/models/research/object_detection/model_main.py \\\n",
        "    --pipeline_config_path={pipeline_fname} \\\n",
        "    --model_dir={model_dir} \\\n",
        "    --alsologtostderr \\\n",
        "    --num_train_steps={num_steps} \\\n",
        "    --num_eval_steps={num_eval_steps}"
      ],
      "execution_count": 0,
      "outputs": []
    },
    {
      "cell_type": "markdown",
      "metadata": {
        "colab_type": "text",
        "id": "H0_1AGhrWKMc"
      },
      "source": [
        "# Detection"
      ]
    },
    {
      "cell_type": "markdown",
      "metadata": {
        "colab_type": "text",
        "id": "f7aOtOlebK7h"
      },
      "source": [
        "Load an object detection model:"
      ]
    },
    {
      "cell_type": "code",
      "metadata": {
        "colab_type": "code",
        "id": "1XNT0wxybKR6",
        "colab": {}
      },
      "source": [
        "# model_name = 'ssd_mobilenet_v1_coco_2017_11_17'\n",
        "# detection_model = load_model(model_name)\n",
        "detection_model = load_custom_model(model_dir)"
      ],
      "execution_count": 0,
      "outputs": []
    },
    {
      "cell_type": "markdown",
      "metadata": {
        "colab_type": "text",
        "id": "yN1AYfAEJIGp"
      },
      "source": [
        "Check the model's input signature, it expects a batch of 3-color images of type uint8: "
      ]
    },
    {
      "cell_type": "code",
      "metadata": {
        "colab_type": "code",
        "id": "CK4cnry6wsHY",
        "colab": {}
      },
      "source": [
        "print(detection_model.inputs)"
      ],
      "execution_count": 0,
      "outputs": []
    },
    {
      "cell_type": "markdown",
      "metadata": {
        "colab_type": "text",
        "id": "Q8u3BjpMJXZF"
      },
      "source": [
        "And retuns several outputs:"
      ]
    },
    {
      "cell_type": "code",
      "metadata": {
        "colab_type": "code",
        "id": "oLSZpfaYwuSk",
        "colab": {}
      },
      "source": [
        "detection_model.output_dtypes"
      ],
      "execution_count": 0,
      "outputs": []
    },
    {
      "cell_type": "code",
      "metadata": {
        "colab_type": "code",
        "id": "FZyKUJeuxvpT",
        "colab": {}
      },
      "source": [
        "detection_model.output_shapes"
      ],
      "execution_count": 0,
      "outputs": []
    },
    {
      "cell_type": "markdown",
      "metadata": {
        "colab_type": "text",
        "id": "JP5qZ7sXJpwG"
      },
      "source": [
        "Add a wrapper function to call the model, and cleanup the outputs:"
      ]
    },
    {
      "cell_type": "code",
      "metadata": {
        "colab_type": "code",
        "id": "ajmR_exWyN76",
        "colab": {}
      },
      "source": [
        "def run_inference_for_single_image(model, image):\n",
        "  image = np.asarray(image)\n",
        "  # The input needs to be a tensor, convert it using `tf.convert_to_tensor`.\n",
        "  input_tensor = tf.convert_to_tensor(image)\n",
        "  # The model expects a batch of images, so add an axis with `tf.newaxis`.\n",
        "  input_tensor = input_tensor[tf.newaxis,...]\n",
        "\n",
        "  # Run inference\n",
        "  output_dict = model(input_tensor)\n",
        "  # All outputs are batches tensors.\n",
        "  # Convert to numpy arrays, and take index [0] to remove the batch dimension.\n",
        "  # We're only interested in the first num_detections.\n",
        "  num_detections = int(output_dict.pop('num_detections'))\n",
        "  output_dict = {key:value[0, :num_detections].numpy() \n",
        "                 for key,value in output_dict.items()}\n",
        "  output_dict['num_detections'] = num_detections\n",
        "\n",
        "  # detection_classes should be ints.\n",
        "  output_dict['detection_classes'] = output_dict['detection_classes'].astype(np.int64)\n",
        "  # Handle models with masks:\n",
        "  if 'detection_masks' in output_dict:\n",
        "    # Reframe the the bbox mask to the image size.\n",
        "    detection_masks_reframed = utils_ops.reframe_box_masks_to_image_masks(\n",
        "              output_dict['detection_masks'], output_dict['detection_boxes'],\n",
        "               image.shape[0], image.shape[1])      \n",
        "    detection_masks_reframed = tf.cast(detection_masks_reframed > 0.5,\n",
        "                                       tf.uint8)\n",
        "    output_dict['detection_masks_reframed'] = detection_masks_reframed.numpy()\n",
        "    \n",
        "  return output_dict"
      ],
      "execution_count": 0,
      "outputs": []
    },
    {
      "cell_type": "markdown",
      "metadata": {
        "colab_type": "text",
        "id": "z1wq0LVyMRR_"
      },
      "source": [
        "Run it on each test image and show the results:"
      ]
    },
    {
      "cell_type": "code",
      "metadata": {
        "colab_type": "code",
        "id": "DWh_1zz6aqxs",
        "colab": {}
      },
      "source": [
        "def show_inference(model, image_path):\n",
        "  # the array based representation of the image will be used later in order to prepare the\n",
        "  # result image with boxes and labels on it.\n",
        "  image_np = np.array(Image.open(image_path))\n",
        "  # Actual detection.\n",
        "  output_dict = run_inference_for_single_image(model, image_np)\n",
        "  # Visualization of the results of a detection.\n",
        "  vis_util.visualize_boxes_and_labels_on_image_array(\n",
        "      image_np,\n",
        "      output_dict['detection_boxes'],\n",
        "      output_dict['detection_classes'],\n",
        "      output_dict['detection_scores'],\n",
        "      category_index,\n",
        "      instance_masks=output_dict.get('detection_masks_reframed', None),\n",
        "      use_normalized_coordinates=True,\n",
        "      line_thickness=8)\n",
        "\n",
        "  # print(output_dict)\n",
        "  display(Image.fromarray(image_np))"
      ],
      "execution_count": 0,
      "outputs": []
    },
    {
      "cell_type": "code",
      "metadata": {
        "colab_type": "code",
        "id": "3a5wMHN8WKMh",
        "colab": {}
      },
      "source": [
        "for image_path in TEST_IMAGE_PATHS:\n",
        "  show_inference(detection_model, image_path)\n",
        "  break"
      ],
      "execution_count": 0,
      "outputs": []
    },
    {
      "cell_type": "markdown",
      "metadata": {
        "colab_type": "text",
        "id": "DsspMPX3Cssg"
      },
      "source": [
        "## Instance Segmentation"
      ]
    },
    {
      "cell_type": "code",
      "metadata": {
        "colab_type": "code",
        "id": "CzkVv_n2MxKC",
        "colab": {}
      },
      "source": [
        "model_name = \"mask_rcnn_inception_resnet_v2_atrous_coco_2018_01_28\"\n",
        "masking_model = load_model(\"mask_rcnn_inception_resnet_v2_atrous_coco_2018_01_28\")"
      ],
      "execution_count": 0,
      "outputs": []
    },
    {
      "cell_type": "markdown",
      "metadata": {
        "colab_type": "text",
        "id": "0S7aZi8ZOhVV"
      },
      "source": [
        "The instance segmentation model includes a `detection_masks` output:"
      ]
    },
    {
      "cell_type": "code",
      "metadata": {
        "colab_type": "code",
        "id": "vQ2Sj2VIOZLA",
        "colab": {}
      },
      "source": [
        "masking_model.output_shapes"
      ],
      "execution_count": 0,
      "outputs": []
    },
    {
      "cell_type": "code",
      "metadata": {
        "colab_type": "code",
        "id": "AS57rZlnNL7W",
        "colab": {}
      },
      "source": [
        "for image_path in TEST_IMAGE_PATHS:\n",
        "  show_inference(masking_model, image_path)"
      ],
      "execution_count": 0,
      "outputs": []
    },
    {
      "cell_type": "code",
      "metadata": {
        "colab_type": "code",
        "id": "nLlmm9JojEKm",
        "colab": {}
      },
      "source": [
        ""
      ],
      "execution_count": 0,
      "outputs": []
    }
  ]
}